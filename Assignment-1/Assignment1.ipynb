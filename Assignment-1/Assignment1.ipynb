{
 "cells": [
  {
   "cell_type": "markdown",
   "metadata": {},
   "source": [
    "# AE413: Optimization Techniques in Engineering\n",
    "## Assignment 1: Formulation of optimization problems and solution using Python\n",
    "---\n",
    "**Name**: Gaurav Gupta; SC21B026; B.Tech Aerospace Engineering"
   ]
  },
  {
   "cell_type": "code",
   "execution_count": 142,
   "metadata": {},
   "outputs": [],
   "source": [
    "import numpy as np\n",
    "from scipy.optimize import minimize, linprog, milp, Bounds, LinearConstraint"
   ]
  },
  {
   "cell_type": "markdown",
   "metadata": {},
   "source": [
    "### Question 1"
   ]
  },
  {
   "cell_type": "code",
   "execution_count": 143,
   "metadata": {},
   "outputs": [
    {
     "name": "stdout",
     "output_type": "stream",
     "text": [
      "Optimized value of D is 874.259 m for a value of theta = 43.363 degrees.\n"
     ]
    }
   ],
   "source": [
    "h = 50\n",
    "v = 90\n",
    "theta0 = [45*np.pi/180]\n",
    "bound = [(0, 80*np.pi/180)]\n",
    "def D(O):\n",
    "    global h, v\n",
    "    g = 9.81\n",
    "    return -(v*v*np.sin(2*O)/g/2 + np.sqrt((v*np.sin(O)/g)**2 + 2*h/g)*v*np.cos(O))\n",
    "\n",
    "result = minimize(D, theta0, method='SLSQP', bounds=bound)\n",
    "print(f\"Optimized value of D is {-result.fun:.3f} m for a value of theta = {result.x[0] * 180 / np.pi:.3f} degrees.\")"
   ]
  },
  {
   "cell_type": "markdown",
   "metadata": {},
   "source": [
    "### Question 2"
   ]
  },
  {
   "cell_type": "code",
   "execution_count": 144,
   "metadata": {},
   "outputs": [
    {
     "name": "stdout",
     "output_type": "stream",
     "text": [
      "Minimum cost of transport is Rs. 12950.00.\n",
      "[[-0.  0.  1.]\n",
      " [ 1. -0.  0.]\n",
      " [ 0.  0.  0.]\n",
      " [ 0.  1.  0.]\n",
      " [ 0.  0.  0.]]\n"
     ]
    }
   ],
   "source": [
    "i = 3\n",
    "j = 2\n",
    "k = 5\n",
    "Qij = [10, 7, 15, 20, 15, 8]\n",
    "Ckj = [100, 200, 250, 150, 400, 450, 300, 150, 250, 300]\n",
    "Aki = np.zeros((1, k * i))\n",
    "\n",
    "bounds = Bounds(0, 1)  # 0 <= x_i <= 1\n",
    "integrality = np.ones(15)  # 15 integer variables\n",
    "\n",
    "# Coefficient Matrix\n",
    "c = (np.reshape(Ckj, (k, j)) @ np.reshape(Qij, (j, i)))\n",
    "c = c.flatten()\n",
    "\n",
    "# Constraints\n",
    "# A1: Ensuring each k row has a sum of 1\n",
    "A1 = np.zeros((k, i * k))\n",
    "for n in range(k):\n",
    "    A1[n, n * i:(n + 1) * i] = 1\n",
    "\n",
    "B1_u = np.ones(k)\n",
    "B1_l = -np.inf * np.ones(k)\n",
    "\n",
    "# A2: Sum constraints for i elements across different k\n",
    "A2 = np.zeros((i, i * k))\n",
    "for n in range(i):\n",
    "    A2[n, n::i] = 1\n",
    "\n",
    "B2_u = np.ones(i)\n",
    "B2_l = np.copy(B2_u)\n",
    "\n",
    "# Combining constraints\n",
    "A = np.vstack([A1, A2])\n",
    "b_u = np.hstack([B1_u, B2_u])\n",
    "b_l = np.hstack([B1_l, B2_l])\n",
    "\n",
    "cons = LinearConstraint(A, b_l, b_u)\n",
    "\n",
    "# Minimize c @ x\n",
    "res = milp(c=c, integrality=integrality, bounds=bounds, constraints=cons)\n",
    "\n",
    "print(f\"Minimum cost of transport is Rs. {res.fun:.2f}.\")\n",
    "print(res.x.reshape((5,3)))"
   ]
  },
  {
   "cell_type": "markdown",
   "metadata": {},
   "source": [
    "### Question 3"
   ]
  },
  {
   "cell_type": "code",
   "execution_count": 145,
   "metadata": {},
   "outputs": [
    {
     "name": "stdout",
     "output_type": "stream",
     "text": [
      "Maximum profit is Rs. 21242000.000\n",
      "Plant A purchased 200.000 Tonnes, 170.000 Tonnes, and 0.000 Tonnes from Supplier 1, 2, and 3, respectively.\n",
      "Plant B purchased 0.000 Tonnes, 140.000 Tonnes, and 420.000 Tonnes from Supplier 1, 2, and 3, respectively.\n"
     ]
    }
   ],
   "source": [
    "# Given data\n",
    "ri = np.array([1100, 1000, 900])\n",
    "Sij = np.array([[3000, 3500], [2000, 2500], [6000, 4000]])\n",
    "Gi = np.array([200, 310, 420])\n",
    "Cj = np.array([460, 560])\n",
    "Lj = np.array([26000, 21000])\n",
    "\n",
    "# Number of suppliers and plants\n",
    "num_suppliers = 3\n",
    "num_plants = 2\n",
    "\n",
    "# Objective function coefficients (profit per unit)\n",
    "selling_price = 50000\n",
    "c = -(\n",
    "    selling_price -  # Revenue\n",
    "    np.repeat(ri, num_plants) -  # Supplier cost\n",
    "    Sij.flatten() -  # Shipping cost\n",
    "    np.tile(Lj, num_suppliers)  # Labor cost\n",
    ")\n",
    "\n",
    "# Inequality constraints (Ax <= b)\n",
    "A_ub = []\n",
    "\n",
    "# Plant capacity constraints: Sum of supplies to each plant <= Plant capacity\n",
    "for j in range(num_plants):\n",
    "    constraint = np.zeros(num_suppliers * num_plants)\n",
    "    for i in range(num_suppliers):\n",
    "        constraint[i * num_plants + j] = 1\n",
    "    A_ub.append(constraint)\n",
    "\n",
    "b_ub = Cj.tolist()  # Plant capacities\n",
    "\n",
    "# Supplier capacity constraints: Sum of supplies from each supplier <= Supplier capacity\n",
    "for i in range(num_suppliers):\n",
    "    constraint = np.zeros(num_suppliers * num_plants)\n",
    "    for j in range(num_plants):\n",
    "        constraint[i * num_plants + j] = 1\n",
    "    A_ub.append(constraint)\n",
    "\n",
    "b_ub.extend(Gi.tolist())  # Supplier capacities\n",
    "\n",
    "# Convert to numpy arrays\n",
    "A_ub = np.array(A_ub)\n",
    "b_ub = np.array(b_ub)\n",
    "\n",
    "# Bounds for each variable (non-negative quantities)\n",
    "bounds = [(0, None)] * (num_suppliers * num_plants)\n",
    "\n",
    "# Initial guess (not used in linprog, but defining for clarity)\n",
    "initial_guess = np.zeros(6)\n",
    "\n",
    "# Perform linear programming optimization (linprog minimizes, so we negate c for maximization)\n",
    "result = linprog(c, A_ub=A_ub, b_ub=b_ub, bounds=bounds, method='highs')\n",
    "\n",
    "# Reshape the result to a 2D array\n",
    "Q_opt = result.x.reshape(num_suppliers, num_plants)\n",
    "\n",
    "# Print the results\n",
    "max_profit = -result.fun  # Negate because we minimized the negative profit\n",
    "print(f\"Maximum profit is Rs. {max_profit:.3f}\")\n",
    "print(f\"Plant A purchased {Q_opt[0,0]:.3f} Tonnes, {Q_opt[1,0]:.3f} Tonnes, and {Q_opt[2,0]:.3f} Tonnes from Supplier 1, 2, and 3, respectively.\")\n",
    "print(f\"Plant B purchased {Q_opt[0,1]:.3f} Tonnes, {Q_opt[1,1]:.3f} Tonnes, and {Q_opt[2,1]:.3f} Tonnes from Supplier 1, 2, and 3, respectively.\")"
   ]
  },
  {
   "cell_type": "markdown",
   "metadata": {},
   "source": [
    "### Question 4"
   ]
  },
  {
   "cell_type": "code",
   "execution_count": 146,
   "metadata": {},
   "outputs": [
    {
     "name": "stdout",
     "output_type": "stream",
     "text": [
      "        message: Optimization terminated successfully. (HiGHS Status 7: Optimal)\n",
      "        success: True\n",
      "         status: 0\n",
      "            fun: -2125.0\n",
      "              x: [ 0.000e+00  6.667e+00  1.000e+00  3.333e-01]\n",
      "            nit: 1\n",
      "          lower:  residual: [ 0.000e+00  6.667e+00  1.000e+00  3.333e-01]\n",
      "                 marginals: [ 8.500e+01  0.000e+00  0.000e+00  0.000e+00]\n",
      "          upper:  residual: [       inf        inf  0.000e+00        inf]\n",
      "                 marginals: [ 0.000e+00  0.000e+00 -2.250e+02  0.000e+00]\n",
      "          eqlin:  residual: [ 0.000e+00]\n",
      "                 marginals: [-1.500e+01]\n",
      "        ineqlin:  residual: [ 0.000e+00  4.667e+00]\n",
      "                 marginals: [-9.500e+01 -0.000e+00]\n",
      " mip_node_count: 0\n",
      " mip_dual_bound: 0.0\n",
      "        mip_gap: 0.0\n"
     ]
    }
   ],
   "source": [
    "import numpy as np\n",
    "from scipy.optimize import linprog\n",
    "\n",
    "i = 2\n",
    "j = 2\n",
    "Mj = [20, 18]\n",
    "Tij = [3, 4, 3, 2]  # Time constraints\n",
    "Pi = [200, 300]     # Profit coefficients for i\n",
    "P3 = 150            # Profit coefficient for P3\n",
    "P4 = 75             # Profit coefficient for P4\n",
    "n = 5               # By-product multiplier\n",
    "K = 1               # Upper bound for x3\n",
    "\n",
    "# Coefficient matrix for objective function\n",
    "c = -np.array(Pi + [P3, -P4])\n",
    "\n",
    "# Boundaries for the decision variables (x1, x2 >= 0, 0 <= x3 <= 1, x4 >= 0)\n",
    "bounds = [(0, None), (0, None), (0, K), (0, None)]  # Adding bound for x3\n",
    "\n",
    "# Inequality constraint (time constraint): Tij @ x <= Mj\n",
    "Au = np.array([[Tij[0], Tij[2], 0, 0],\n",
    "               [Tij[1], Tij[3], 0, 0]])\n",
    "\n",
    "Bu = np.array(Mj)\n",
    "\n",
    "# Equality constraint (by-product constraint): x2 - n * (x3 + x4) = 0\n",
    "Aeq = np.array([[0, 1, -n, -n]])\n",
    "Beq = np.array([0])\n",
    "\n",
    "# Solving the optimization problem\n",
    "res = linprog(c, A_ub=Au, b_ub=Bu, A_eq=Aeq, b_eq=Beq, bounds=bounds)\n",
    "\n",
    "# Display the result\n",
    "print(res)"
   ]
  },
  {
   "cell_type": "markdown",
   "metadata": {},
   "source": [
    "### Question 5"
   ]
  },
  {
   "cell_type": "code",
   "execution_count": 147,
   "metadata": {},
   "outputs": [
    {
     "name": "stdout",
     "output_type": "stream",
     "text": [
      "        message: Optimization terminated successfully. (HiGHS Status 7: Optimal)\n",
      "        success: True\n",
      "         status: 0\n",
      "            fun: -0.517\n",
      "              x: [ 1.000e+00  0.000e+00  1.000e+00  0.000e+00  1.000e+00\n",
      "                   0.000e+00  1.000e+00  0.000e+00  1.000e+00  0.000e+00]\n",
      " mip_node_count: 0\n",
      " mip_dual_bound: -0.517\n",
      "        mip_gap: 0.0\n"
     ]
    }
   ],
   "source": [
    "i = 2\n",
    "j = 5\n",
    "Vj = np.array([0.1, 0.02, 0.3, 0.057, 0.04])  # Volumes\n",
    "Wj = np.array([10, 2.7, 36, 6.9, 0.5])        # Weights\n",
    "V = 1                                         # Total volume constraint\n",
    "W = 75                                        # Total weight constraint\n",
    "\n",
    "bounds = Bounds(0, 1)  # 0 <= x_i <= 1 (continuous)\n",
    "\n",
    "integrality = np.ones(i * j)  # 10 integer variables (2i * j)\n",
    "\n",
    "# Coefficient matrix for objective function\n",
    "c = np.column_stack((Vj, Vj))  # Coefficients for i1 and i2 variables\n",
    "c = -c.flatten()               # Minimize the negative of the objective\n",
    "\n",
    "# Volume constraints: sum of volumes for i <= V\n",
    "A1 = np.zeros((i, i * j))\n",
    "for n in range(i):\n",
    "    idx = np.arange(j) * 2 + n  # Selecting the correct variables for each i\n",
    "    A1[n, idx] = Vj\n",
    "\n",
    "B1u = [V, V]  # Upper bound for volume constraints\n",
    "B1l = [0, 0]  # Lower bound for volume constraints\n",
    "\n",
    "# Weight constraints: sum of weights for i <= W\n",
    "A2 = np.zeros((i, i * j))\n",
    "for n in range(i):\n",
    "    idx = np.arange(j) * 2 + n  # Selecting the correct variables for each i\n",
    "    A2[n, idx] = Wj\n",
    "\n",
    "B2u = [W, W]  # Upper bound for weight constraints\n",
    "B2l = [0, 0]  # Lower bound for weight constraints\n",
    "\n",
    "# Selection constraints: sum across i for each j <= 1\n",
    "A3 = np.zeros((j, i * j))\n",
    "for n in range(j):\n",
    "    A3[n, [n * 2, n * 2 + 1]] = 1  # Sum of x1 and x2 for each j <= 1\n",
    "\n",
    "B3u = [1] * j  # Upper bound: At most 1 selection per j\n",
    "B3l = [0] * j  # Lower bound: Non-negative\n",
    "\n",
    "# Combining constraints\n",
    "A = np.vstack([A1, A2, A3])\n",
    "b_u = np.hstack([B1u, B2u, B3u])\n",
    "b_l = np.hstack([B1l, B2l, B3l])\n",
    "\n",
    "# Define the constraints using the LinearConstraint object\n",
    "cons = LinearConstraint(A, b_l, b_u)\n",
    "\n",
    "# Solving the MILP problem\n",
    "res = milp(c=c, integrality=integrality, bounds=bounds, constraints=cons)\n",
    "\n",
    "# Display the result\n",
    "print(res)"
   ]
  },
  {
   "cell_type": "markdown",
   "metadata": {},
   "source": [
    "### Question 6"
   ]
  },
  {
   "cell_type": "code",
   "execution_count": 148,
   "metadata": {},
   "outputs": [
    {
     "name": "stdout",
     "output_type": "stream",
     "text": [
      " message: Optimization terminated successfully\n",
      " success: True\n",
      "  status: 0\n",
      "     fun: 528.5714293221455\n",
      "       x: [ 2.829e+02  2.929e+02  5.000e+02]\n",
      "     nit: 26\n",
      "     jac: [ 0.000e+00  6.667e-01 -6.667e-01]\n",
      "    nfev: 135\n",
      "    njev: 26\n"
     ]
    }
   ],
   "source": [
    "i = 3  # Number of decision variables\n",
    "ai = [0.5, 1, 0.75]  # ai values for the problem\n",
    "bi = [3, 2, 1.5]     # bi values for the problem\n",
    "d = 500              # Constant value\n",
    "epsilon = 10       # Small tolerance for strict inequality\n",
    "\n",
    "# Objective function: Maximize the time based on x\n",
    "def OF(x):\n",
    "    t = np.zeros(i)\n",
    "    t[0] = x[0] / bi[0] + (d - x[0]) / ai[0]\n",
    "    for n in [1, 2]:\n",
    "        t[n] = x[n - 1] / ai[n] + (x[n] - x[n - 1]) / bi[n] + (d - x[n]) / ai[n]\n",
    "    return np.max(t)\n",
    "\n",
    "# Constraints setup with small epsilon to enforce strict inequality\n",
    "constraints = [\n",
    "    {'type': 'ineq', 'fun': lambda x: x[0]- epsilon},                      # x[0] > 0\n",
    "    {'type': 'ineq', 'fun': lambda x: x[1] - x[0] - epsilon},     # x[1] > x[0]\n",
    "    {'type': 'ineq', 'fun': lambda x: x[2] - x[1] - epsilon},     # x[2] > x[1]\n",
    "    {'type': 'ineq', 'fun': lambda x: d - x[2]},                  # d >= x[2]\n",
    "    {'type': 'ineq', 'fun': lambda x: x[0] / ai[1] - x[0] / bi[0]},  # Additional constraint involving x[0]\n",
    "    {'type': 'ineq', 'fun': lambda x: x[1] / ai[2] - (x[1] - x[0]) / bi[1]}  # Additional constraint involving x[1] and x[0]\n",
    "]\n",
    "\n",
    "# Bounds for the variables (0 <= x <= d for each variable)\n",
    "bound = [(0, d)] * i\n",
    "\n",
    "# Initial guess (starting point)\n",
    "ig = [0] * i\n",
    "\n",
    "# Solve the optimization problem using SLSQP\n",
    "res = minimize(OF, ig, method='SLSQP', bounds=bound, constraints=constraints)\n",
    "\n",
    "# Output the results\n",
    "print(res)"
   ]
  },
  {
   "cell_type": "markdown",
   "metadata": {},
   "source": [
    "### Question 7"
   ]
  },
  {
   "cell_type": "code",
   "execution_count": 149,
   "metadata": {},
   "outputs": [
    {
     "name": "stdout",
     "output_type": "stream",
     "text": [
      "Maximum profit is Rs. 4990000.000\n",
      "Blend 1 has 1000.000 Kgs, 2000.000 Kgs, and 2000.000 Kgs of Variety 1, 2, and 3 of coffee beans, respectively.\n",
      "Blend 2 has 6000.000 Kgs, 7000.000 Kgs, and 7000.000 Kgs of Variety 1, 2, and 3 of coffee beans, respectively.\n",
      "Blend 3 has 0.000 Kgs, 0.000 Kgs, and 0.000 Kgs of Variety 1, 2, and 3 of coffee beans, respectively.\n"
     ]
    }
   ],
   "source": [
    "# Given Data\n",
    "Mj = np.array([8000, 10000, 9000])  # Maximum availability of each coffee variety\n",
    "Cj = np.array([120, 130, 100])  # Cost of each coffee variety\n",
    "Si = np.array([300, 320, 280])  # Selling price for each blend\n",
    "\n",
    "# Objective function to maximize profit\n",
    "def profit(x):\n",
    "    Qij = x.reshape(3, 3)  # Reshape x to a 2D array (3 Blends x 3 Coffee Varieties)\n",
    "    sellingPrice = np.dot(np.sum(Qij, axis=1), Si)\n",
    "    costPrice = np.dot(np.sum(Qij, axis=0), Cj)\n",
    "    return -(sellingPrice - costPrice)\n",
    "\n",
    "# Define constraints\n",
    "constraints = [\n",
    "    {'type': 'ineq', 'fun': lambda x: Mj - np.sum(x.reshape(3, 3), axis=0)},  # Availability constraints\n",
    "    {'type': 'ineq', 'fun': lambda x: 25000 - np.sum(x)},  # Total capacity constraint\n",
    "    {'type': 'ineq', 'fun': lambda x: np.sum(x.reshape(3, 3)[0, :]) - 5000},  # Blend 1 minimum amount constraint\n",
    "    {'type': 'ineq', 'fun': lambda x: 0.2 * np.sum(x.reshape(3, 3)[0, :]) - x.reshape(3, 3)[0, 0]},  # Blend 1 coffee variety 1 proportion constraint\n",
    "    {'type': 'ineq', 'fun': lambda x: x.reshape(3, 3)[0, 0] - 0.1 * np.sum(x.reshape(3, 3)[0, :])},  # Blend 1 coffee variety 1 lower proportion constraint\n",
    "    {'type': 'ineq', 'fun': lambda x: 0.35 * np.sum(x.reshape(3, 3)[2, :]) - x.reshape(3, 3)[2, 1]},  # Blend 3 coffee variety 2 proportion constraint\n",
    "    {'type': 'ineq', 'fun': lambda x: x.reshape(3, 3)[2, 1] - 0.3 * np.sum(x.reshape(3, 3)[2, :])},  # Blend 3 coffee variety 2 lower proportion constraint\n",
    "    {'type': 'ineq', 'fun': lambda x: x.reshape(3, 3)[1, 1] + x.reshape(3, 3)[1, 2] - 0.7 * np.sum(x.reshape(3, 3)[1, :])}  # Blend 2 coffee varieties 2 and 3 constraint\n",
    "]\n",
    "\n",
    "# Define bounds (9 variables since we have a 3x3 array)\n",
    "bounds = [(0, None)] * 9\n",
    "\n",
    "# Initial guess (assume starting with 0 for all quantities)\n",
    "initial_guess = np.zeros(9)\n",
    "\n",
    "# Perform the optimization\n",
    "result = minimize(profit, initial_guess, method='SLSQP', constraints=constraints, bounds=bounds)\n",
    "\n",
    "# Reshape the result to a 2D array\n",
    "Q_opt = result.x.reshape(3, 3)\n",
    "\n",
    "# Print the results\n",
    "print(f\"Maximum profit is Rs. {-result.fun:.3f}\")\n",
    "print(f\"Blend 1 has {Q_opt[0, 0]:.3f} Kgs, {Q_opt[0, 1]:.3f} Kgs, and {Q_opt[0, 2]:.3f} Kgs of Variety 1, 2, and 3 of coffee beans, respectively.\")\n",
    "print(f\"Blend 2 has {Q_opt[1, 0]:.3f} Kgs, {Q_opt[1, 1]:.3f} Kgs, and {Q_opt[1, 2]:.3f} Kgs of Variety 1, 2, and 3 of coffee beans, respectively.\")\n",
    "print(f\"Blend 3 has {Q_opt[2, 0]:.3f} Kgs, {Q_opt[2, 1]:.3f} Kgs, and {Q_opt[2, 2]:.3f} Kgs of Variety 1, 2, and 3 of coffee beans, respectively.\")"
   ]
  },
  {
   "cell_type": "markdown",
   "metadata": {},
   "source": [
    "### Question 9"
   ]
  },
  {
   "cell_type": "code",
   "execution_count": 150,
   "metadata": {},
   "outputs": [
    {
     "name": "stdout",
     "output_type": "stream",
     "text": [
      "Maximum profit is Rs. 112000.000\n",
      "Product 1 is sown in an area of 20.000 m^2.\n",
      "Product 2 is sown in an area of 0.000 m^2.\n",
      "Product 3 is sown in an area of 0.000 m^2.\n"
     ]
    }
   ],
   "source": [
    "# Given data\n",
    "yi = np.array([400, 600, 200])\n",
    "pi = np.array([20, 15, 25])\n",
    "fi = np.array([200, 300, 100])\n",
    "ti = np.array([10, 12, 8])\n",
    "\n",
    "# Objective coefficients (for minimization, negative of profit)\n",
    "c = -(yi * pi) + (10 * fi + 40 * ti)\n",
    "\n",
    "# Constraints\n",
    "A = [\n",
    "    [1, 1, 1],  # Total area constraint\n",
    "    ti          # Total labor time constraint\n",
    "]\n",
    "b = [20, 2000]  # RHS of the constraints\n",
    "\n",
    "# Bounds for each variable (non-negative)\n",
    "x_bounds = [(0, None), (0, None), (0, None)]\n",
    "\n",
    "# Perform linear programming optimization\n",
    "result = linprog(c, A_ub=A, b_ub=b, bounds=x_bounds, method='highs')\n",
    "\n",
    "# Extract results\n",
    "max_profit = -result.fun\n",
    "area_allocation = result.x\n",
    "\n",
    "# Print the results\n",
    "print(f\"Maximum profit is Rs. {max_profit:.3f}\")\n",
    "print(f\"Product 1 is sown in an area of {area_allocation[0]:.3f} m^2.\")\n",
    "print(f\"Product 2 is sown in an area of {area_allocation[1]:.3f} m^2.\")\n",
    "print(f\"Product 3 is sown in an area of {area_allocation[2]:.3f} m^2.\")"
   ]
  },
  {
   "cell_type": "markdown",
   "metadata": {},
   "source": [
    "### Question 10"
   ]
  },
  {
   "cell_type": "code",
   "execution_count": 151,
   "metadata": {},
   "outputs": [
    {
     "name": "stdout",
     "output_type": "stream",
     "text": [
      "The maximum volume of the open box is obtained as 0.011 m^3 for the value of x as 40.423 mm\n"
     ]
    }
   ],
   "source": [
    "l = 297\n",
    "w = 210\n",
    "\n",
    "def volume(x):\n",
    "    return -(l-2*x)*(w-2*x)*x\n",
    "\n",
    "bound = [(0,w/2)]\n",
    "\n",
    "x0 = 1 #Intial Guess\n",
    "\n",
    "result = minimize(volume, x0, method='SLSQP', bounds=bound)\n",
    "print(f\"The maximum volume of the open box is obtained as {-result.fun*10e-9:.3f} m^3 for the value of x as {result.x[0]:.3f} mm\")"
   ]
  }
 ],
 "metadata": {
  "kernelspec": {
   "display_name": "Python 3",
   "language": "python",
   "name": "python3"
  },
  "language_info": {
   "codemirror_mode": {
    "name": "ipython",
    "version": 3
   },
   "file_extension": ".py",
   "mimetype": "text/x-python",
   "name": "python",
   "nbconvert_exporter": "python",
   "pygments_lexer": "ipython3",
   "version": "3.12.0"
  }
 },
 "nbformat": 4,
 "nbformat_minor": 2
}
